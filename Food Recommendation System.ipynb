{
 "cells": [
  {
   "cell_type": "code",
   "execution_count": 20,
   "id": "fb841ee6",
   "metadata": {},
   "outputs": [],
   "source": [
    "import os\n",
    "os.environ[\"openai_api_key\"]=\"secret key\"\n"
   ]
  },
  {
   "cell_type": "markdown",
   "id": "14cfeb14",
   "metadata": {},
   "source": []
  },
  {
   "cell_type": "markdown",
   "id": "1891fa22",
   "metadata": {},
   "source": []
  },
  {
   "cell_type": "code",
   "execution_count": null,
   "id": "35fec083",
   "metadata": {},
   "outputs": [],
   "source": []
  },
  {
   "cell_type": "code",
   "execution_count": 15,
   "id": "fbc1de36",
   "metadata": {},
   "outputs": [
    {
     "name": "stdout",
     "output_type": "stream",
     "text": [
      "Requirement already satisfied: langchain in c:\\users\\khushi choudhary\\anaconda3\\lib\\site-packages (0.1.10)\n",
      "Requirement already satisfied: PyYAML>=5.3 in c:\\users\\khushi choudhary\\anaconda3\\lib\\site-packages (from langchain) (6.0)\n",
      "Requirement already satisfied: SQLAlchemy<3,>=1.4 in c:\\users\\khushi choudhary\\anaconda3\\lib\\site-packages (from langchain) (1.4.39)\n",
      "Requirement already satisfied: aiohttp<4.0.0,>=3.8.3 in c:\\users\\khushi choudhary\\anaconda3\\lib\\site-packages (from langchain) (3.8.5)\n",
      "Requirement already satisfied: dataclasses-json<0.7,>=0.5.7 in c:\\users\\khushi choudhary\\anaconda3\\lib\\site-packages (from langchain) (0.6.4)\n",
      "Requirement already satisfied: jsonpatch<2.0,>=1.33 in c:\\users\\khushi choudhary\\anaconda3\\lib\\site-packages (from langchain) (1.33)\n",
      "Requirement already satisfied: langchain-community<0.1,>=0.0.25 in c:\\users\\khushi choudhary\\anaconda3\\lib\\site-packages (from langchain) (0.0.25)\n",
      "Requirement already satisfied: langchain-core<0.2,>=0.1.28 in c:\\users\\khushi choudhary\\anaconda3\\lib\\site-packages (from langchain) (0.1.28)\n",
      "Requirement already satisfied: langchain-text-splitters<0.1,>=0.0.1 in c:\\users\\khushi choudhary\\anaconda3\\lib\\site-packages (from langchain) (0.0.1)\n",
      "Requirement already satisfied: langsmith<0.2.0,>=0.1.0 in c:\\users\\khushi choudhary\\anaconda3\\lib\\site-packages (from langchain) (0.1.13)\n",
      "Requirement already satisfied: numpy<2,>=1 in c:\\users\\khushi choudhary\\anaconda3\\lib\\site-packages (from langchain) (1.24.3)\n",
      "Requirement already satisfied: pydantic<3,>=1 in c:\\users\\khushi choudhary\\anaconda3\\lib\\site-packages (from langchain) (1.10.8)\n",
      "Requirement already satisfied: requests<3,>=2 in c:\\users\\khushi choudhary\\anaconda3\\lib\\site-packages (from langchain) (2.31.0)\n",
      "Requirement already satisfied: tenacity<9.0.0,>=8.1.0 in c:\\users\\khushi choudhary\\anaconda3\\lib\\site-packages (from langchain) (8.2.2)\n",
      "Requirement already satisfied: attrs>=17.3.0 in c:\\users\\khushi choudhary\\anaconda3\\lib\\site-packages (from aiohttp<4.0.0,>=3.8.3->langchain) (22.1.0)\n",
      "Requirement already satisfied: charset-normalizer<4.0,>=2.0 in c:\\users\\khushi choudhary\\anaconda3\\lib\\site-packages (from aiohttp<4.0.0,>=3.8.3->langchain) (2.0.4)\n",
      "Requirement already satisfied: multidict<7.0,>=4.5 in c:\\users\\khushi choudhary\\anaconda3\\lib\\site-packages (from aiohttp<4.0.0,>=3.8.3->langchain) (6.0.2)\n",
      "Requirement already satisfied: async-timeout<5.0,>=4.0.0a3 in c:\\users\\khushi choudhary\\anaconda3\\lib\\site-packages (from aiohttp<4.0.0,>=3.8.3->langchain) (4.0.2)\n",
      "Requirement already satisfied: yarl<2.0,>=1.0 in c:\\users\\khushi choudhary\\anaconda3\\lib\\site-packages (from aiohttp<4.0.0,>=3.8.3->langchain) (1.8.1)\n",
      "Requirement already satisfied: frozenlist>=1.1.1 in c:\\users\\khushi choudhary\\anaconda3\\lib\\site-packages (from aiohttp<4.0.0,>=3.8.3->langchain) (1.3.3)\n",
      "Requirement already satisfied: aiosignal>=1.1.2 in c:\\users\\khushi choudhary\\anaconda3\\lib\\site-packages (from aiohttp<4.0.0,>=3.8.3->langchain) (1.2.0)\n",
      "Requirement already satisfied: marshmallow<4.0.0,>=3.18.0 in c:\\users\\khushi choudhary\\anaconda3\\lib\\site-packages (from dataclasses-json<0.7,>=0.5.7->langchain) (3.21.0)\n",
      "Requirement already satisfied: typing-inspect<1,>=0.4.0 in c:\\users\\khushi choudhary\\anaconda3\\lib\\site-packages (from dataclasses-json<0.7,>=0.5.7->langchain) (0.9.0)\n",
      "Requirement already satisfied: jsonpointer>=1.9 in c:\\users\\khushi choudhary\\anaconda3\\lib\\site-packages (from jsonpatch<2.0,>=1.33->langchain) (2.1)\n",
      "Requirement already satisfied: anyio<5,>=3 in c:\\users\\khushi choudhary\\anaconda3\\lib\\site-packages (from langchain-core<0.2,>=0.1.28->langchain) (3.5.0)\n",
      "Requirement already satisfied: packaging<24.0,>=23.2 in c:\\users\\khushi choudhary\\anaconda3\\lib\\site-packages (from langchain-core<0.2,>=0.1.28->langchain) (23.2)\n",
      "Requirement already satisfied: orjson<4.0.0,>=3.9.14 in c:\\users\\khushi choudhary\\anaconda3\\lib\\site-packages (from langsmith<0.2.0,>=0.1.0->langchain) (3.9.15)\n",
      "Requirement already satisfied: typing-extensions>=4.2.0 in c:\\users\\khushi choudhary\\anaconda3\\lib\\site-packages (from pydantic<3,>=1->langchain) (4.7.1)\n",
      "Requirement already satisfied: idna<4,>=2.5 in c:\\users\\khushi choudhary\\anaconda3\\lib\\site-packages (from requests<3,>=2->langchain) (3.4)\n",
      "Requirement already satisfied: urllib3<3,>=1.21.1 in c:\\users\\khushi choudhary\\anaconda3\\lib\\site-packages (from requests<3,>=2->langchain) (1.26.16)\n",
      "Requirement already satisfied: certifi>=2017.4.17 in c:\\users\\khushi choudhary\\anaconda3\\lib\\site-packages (from requests<3,>=2->langchain) (2023.7.22)\n",
      "Requirement already satisfied: greenlet!=0.4.17 in c:\\users\\khushi choudhary\\anaconda3\\lib\\site-packages (from SQLAlchemy<3,>=1.4->langchain) (2.0.1)\n",
      "Requirement already satisfied: sniffio>=1.1 in c:\\users\\khushi choudhary\\anaconda3\\lib\\site-packages (from anyio<5,>=3->langchain-core<0.2,>=0.1.28->langchain) (1.2.0)\n",
      "Requirement already satisfied: mypy-extensions>=0.3.0 in c:\\users\\khushi choudhary\\anaconda3\\lib\\site-packages (from typing-inspect<1,>=0.4.0->dataclasses-json<0.7,>=0.5.7->langchain) (1.0.0)\n"
     ]
    }
   ],
   "source": [
    "!pip install langchain"
   ]
  },
  {
   "cell_type": "code",
   "execution_count": 16,
   "id": "225c57b6",
   "metadata": {},
   "outputs": [
    {
     "name": "stdout",
     "output_type": "stream",
     "text": [
      "Requirement already satisfied: openai in c:\\users\\khushi choudhary\\anaconda3\\lib\\site-packages (1.13.3)\n",
      "Requirement already satisfied: anyio<5,>=3.5.0 in c:\\users\\khushi choudhary\\anaconda3\\lib\\site-packages (from openai) (3.5.0)\n",
      "Requirement already satisfied: distro<2,>=1.7.0 in c:\\users\\khushi choudhary\\anaconda3\\lib\\site-packages (from openai) (1.9.0)\n",
      "Requirement already satisfied: httpx<1,>=0.23.0 in c:\\users\\khushi choudhary\\anaconda3\\lib\\site-packages (from openai) (0.27.0)\n",
      "Requirement already satisfied: pydantic<3,>=1.9.0 in c:\\users\\khushi choudhary\\anaconda3\\lib\\site-packages (from openai) (1.10.8)\n",
      "Requirement already satisfied: sniffio in c:\\users\\khushi choudhary\\anaconda3\\lib\\site-packages (from openai) (1.2.0)\n",
      "Requirement already satisfied: tqdm>4 in c:\\users\\khushi choudhary\\anaconda3\\lib\\site-packages (from openai) (4.65.0)\n",
      "Requirement already satisfied: typing-extensions<5,>=4.7 in c:\\users\\khushi choudhary\\anaconda3\\lib\\site-packages (from openai) (4.7.1)\n",
      "Requirement already satisfied: idna>=2.8 in c:\\users\\khushi choudhary\\anaconda3\\lib\\site-packages (from anyio<5,>=3.5.0->openai) (3.4)\n",
      "Requirement already satisfied: certifi in c:\\users\\khushi choudhary\\anaconda3\\lib\\site-packages (from httpx<1,>=0.23.0->openai) (2023.7.22)\n",
      "Requirement already satisfied: httpcore==1.* in c:\\users\\khushi choudhary\\anaconda3\\lib\\site-packages (from httpx<1,>=0.23.0->openai) (1.0.4)\n",
      "Requirement already satisfied: h11<0.15,>=0.13 in c:\\users\\khushi choudhary\\anaconda3\\lib\\site-packages (from httpcore==1.*->httpx<1,>=0.23.0->openai) (0.14.0)\n",
      "Requirement already satisfied: colorama in c:\\users\\khushi choudhary\\anaconda3\\lib\\site-packages (from tqdm>4->openai) (0.4.6)\n"
     ]
    }
   ],
   "source": [
    "!pip install openai"
   ]
  },
  {
   "cell_type": "code",
   "execution_count": 26,
   "id": "4addd439",
   "metadata": {},
   "outputs": [],
   "source": [
    "from langchain.prompts import PromptTemplate\n",
    "from langchain.llms import OpenAI\n",
    "from langchain.chains import LLMChain\n"
   ]
  },
  {
   "cell_type": "code",
   "execution_count": 42,
   "id": "ba18be6a",
   "metadata": {},
   "outputs": [],
   "source": [
    "llm_resto=OpenAI(temperature=0.5)\n",
    "prompt_template_resto = PromptTemplate(\n",
    "input_variables=['age','gender','weight','height','veg_or_nonveg','disease','region','foodtype','city'],\n",
    "template=\"Diet Recommendation System:\\n\"\n",
    "    \"I want you to  recommend 6 restaurants names of {city} , 6 breakfast names , 6 dinner names , 6 workout names ,\"\n",
    "    \"based on the following criteria:\\n\"\n",
    "    \"Person age:{age}\\n\"\n",
    "    \"Person gender:{gender}\\n\"\n",
    "    \"Person weight:{weight}\\n\"\n",
    "    \"Person height:{height}\\n\"\n",
    "    \"Person veg_or_nonveg:{veg_or_nonveg}\\n\"\n",
    "    \"Person disease:{disease}\\n\"\n",
    "    \"Person region:{region}\\n\"\n",
    "    \"Person foodtype:{foodtype}\\n\"\n",
    "    'city:{city}\\n'\n",
    ")\n",
    "chain=LLMChain(llm=llm_resto,prompt=prompt_template_resto)"
   ]
  },
  {
   "cell_type": "code",
   "execution_count": 44,
   "id": "a7b1333e",
   "metadata": {},
   "outputs": [],
   "source": [
    "chain_resto=LLMChain(llm=llm_resto,prompt=prompt_template_resto)\n",
    "input_data={\n",
    "    'age':34,\n",
    "    'gender':'male',\n",
    "    'weight':90,\n",
    "    'height':5,\n",
    "    'veg_or_nonveg':'veg',\n",
    "    'disease':'aneamia',\n",
    "    'region':'India',\n",
    "    'foodtype':'Friuts',\n",
    "    'city':'bombay'\n",
    "}\n",
    "result=chain_resto.run(input_data)"
   ]
  },
  {
   "cell_type": "code",
   "execution_count": 45,
   "id": "89f2ef25",
   "metadata": {
    "scrolled": true
   },
   "outputs": [
    {
     "name": "stdout",
     "output_type": "stream",
     "text": [
      "\n",
      "Restaurants:\n",
      "1. The Yoga House\n",
      "2. Farmer's Cafe\n",
      "3. The Village Shop\n",
      "4. Cafe Madras\n",
      "5. Savya Rasa\n",
      "6. The Bombay Canteen\n",
      "\n",
      "Breakfast:\n",
      "1. Quinoa Upma\n",
      "2. Vegetable Oats Poha\n",
      "3. Spinach and Mushroom Omelette\n",
      "4. Avocado Toast with Poached Eggs\n",
      "5. Buckwheat Pancakes with Fresh Fruit\n",
      "6. Tofu Scramble with Whole Wheat Toast\n",
      "\n",
      "Dinner:\n",
      "1. Lentil and Vegetable Curry\n",
      "2. Grilled Tofu and Vegetable Skewers\n",
      "3. Masala Grilled Fish with Steamed Vegetables\n",
      "4. Quinoa and Vegetable Stir-Fry\n",
      "5. Baked Sweet Potato and Black Bean Tacos\n",
      "6. Vegetable and Chickpea Coconut Curry\n",
      "\n",
      "Workouts:\n",
      "1. Yoga for Anemia\n",
      "2. Low-impact Cardio Workout\n",
      "3. Resistance Band Strength Training\n",
      "4. Pilates for Core Strength\n",
      "5. Walking or Jogging in a Park\n",
      "6. Swimming for Low Impact Cardio\n",
      "\n",
      "Note: Please consult with a doctor or nutritionist before starting any new diet or workout regimen, especially if you have a medical condition like anemia.\n"
     ]
    }
   ],
   "source": [
    "print(result)"
   ]
  },
  {
   "cell_type": "code",
   "execution_count": 46,
   "id": "46e78706",
   "metadata": {},
   "outputs": [
    {
     "data": {
      "text/plain": [
       "\"\\nRestaurants:\\n1. The Yoga House\\n2. Farmer's Cafe\\n3. The Village Shop\\n4. Cafe Madras\\n5. Savya Rasa\\n6. The Bombay Canteen\\n\\nBreakfast:\\n1. Quinoa Upma\\n2. Vegetable Oats Poha\\n3. Spinach and Mushroom Omelette\\n4. Avocado Toast with Poached Eggs\\n5. Buckwheat Pancakes with Fresh Fruit\\n6. Tofu Scramble with Whole Wheat Toast\\n\\nDinner:\\n1. Lentil and Vegetable Curry\\n2. Grilled Tofu and Vegetable Skewers\\n3. Masala Grilled Fish with Steamed Vegetables\\n4. Quinoa and Vegetable Stir-Fry\\n5. Baked Sweet Potato and Black Bean Tacos\\n6. Vegetable and Chickpea Coconut Curry\\n\\nWorkouts:\\n1. Yoga for Anemia\\n2. Low-impact Cardio Workout\\n3. Resistance Band Strength Training\\n4. Pilates for Core Strength\\n5. Walking or Jogging in a Park\\n6. Swimming for Low Impact Cardio\\n\\nNote: Please consult with a doctor or nutritionist before starting any new diet or workout regimen, especially if you have a medical condition like anemia.\""
      ]
     },
     "execution_count": 46,
     "metadata": {},
     "output_type": "execute_result"
    }
   ],
   "source": [
    "result"
   ]
  },
  {
   "cell_type": "code",
   "execution_count": 47,
   "id": "f849711a",
   "metadata": {},
   "outputs": [],
   "source": [
    "import re\n",
    "resto_name=re.findall(r'Restaurants:(.*?)Breakfast:',result,re.DOTALL)\n",
    "Breakfast_name=re.findall(r'Breakfast:(.*?)Dinner:',result,re.DOTALL)\n",
    "Dinner_name=re.findall(r'Dinner:(.*?)Workouts:',result,re.DOTALL)\n",
    "Workouts_name=re.findall(r'Workouts:(.*?)$',result,re.DOTALL)\n"
   ]
  },
  {
   "cell_type": "code",
   "execution_count": 48,
   "id": "6c3effae",
   "metadata": {},
   "outputs": [
    {
     "data": {
      "text/plain": [
       "['\\n1. Lentil and Vegetable Curry\\n2. Grilled Tofu and Vegetable Skewers\\n3. Masala Grilled Fish with Steamed Vegetables\\n4. Quinoa and Vegetable Stir-Fry\\n5. Baked Sweet Potato and Black Bean Tacos\\n6. Vegetable and Chickpea Coconut Curry\\n\\n']"
      ]
     },
     "execution_count": 48,
     "metadata": {},
     "output_type": "execute_result"
    }
   ],
   "source": [
    "Dinner_name"
   ]
  },
  {
   "cell_type": "code",
   "execution_count": 40,
   "id": "a180434e",
   "metadata": {},
   "outputs": [
    {
     "data": {
      "text/plain": [
       "[\"\\n1. Greenr Cafe\\n2. The Yoga House\\n3. Sattvam\\n4. Veggie's Kitchen\\n5. The Bombay Salad Co.\\n6. The Village Shop\\n\\n\"]"
      ]
     },
     "execution_count": 40,
     "metadata": {},
     "output_type": "execute_result"
    }
   ],
   "source": [
    "resto_name"
   ]
  },
  {
   "cell_type": "code",
   "execution_count": 56,
   "id": "3251f468",
   "metadata": {},
   "outputs": [
    {
     "name": "stdout",
     "output_type": "stream",
     "text": [
      "resto_name ['1. The Yoga House']\n",
      "Breakfast_name ['1. Quinoa Upma']\n",
      "Dinner_name ['1. Lentil and Vegetable Curry']\n",
      "Workouts_name ['1. Yoga for Anemia']\n"
     ]
    }
   ],
   "source": [
    "resto_name=[name.strip() for name in resto_name[0].strip().split('\\n') if name.strip()] if resto_name else []\n",
    "Breakfast_name=[name.strip() for name in Breakfast_name[0].strip().split('\\n') if name.strip()] if Breakfast_name else []\n",
    "Dinner_name=[name.strip() for name in Dinner_name[0].strip().split('\\n') if name.strip()] if Dinner_name else []\n",
    "Workouts_name=[name.strip() for name in Workouts_name[0].strip().split('\\n') if name.strip()] if Workouts_name else []\n",
    "\n",
    "print('resto_name',resto_name)\n",
    "print('Breakfast_name',Breakfast_name)\n",
    "print('Dinner_name',Dinner_name)\n",
    "print('Workouts_name',Workouts_name)"
   ]
  },
  {
   "cell_type": "code",
   "execution_count": null,
   "id": "65562f1b",
   "metadata": {},
   "outputs": [],
   "source": []
  },
  {
   "cell_type": "code",
   "execution_count": null,
   "id": "92955869",
   "metadata": {},
   "outputs": [],
   "source": []
  },
  {
   "cell_type": "code",
   "execution_count": null,
   "id": "7c4499ca",
   "metadata": {},
   "outputs": [],
   "source": []
  }
 ],
 "metadata": {
  "kernelspec": {
   "display_name": "Python 3 (ipykernel)",
   "language": "python",
   "name": "python3"
  },
  "language_info": {
   "codemirror_mode": {
    "name": "ipython",
    "version": 3
   },
   "file_extension": ".py",
   "mimetype": "text/x-python",
   "name": "python",
   "nbconvert_exporter": "python",
   "pygments_lexer": "ipython3",
   "version": "3.11.5"
  }
 },
 "nbformat": 4,
 "nbformat_minor": 5
}
